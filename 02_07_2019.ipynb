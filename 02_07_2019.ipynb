{
 "cells": [
  {
   "cell_type": "markdown",
   "metadata": {},
   "source": [
    "# list"
   ]
  },
  {
   "cell_type": "code",
   "execution_count": 6,
   "metadata": {},
   "outputs": [
    {
     "name": "stdout",
     "output_type": "stream",
     "text": [
      "Enter length of of list4\n",
      "enter  4 values\n",
      "1\n",
      "2\n",
      "3\n",
      "4\n",
      "your list as [1, 2, 3, 4]\n",
      "multiplication of list is \n",
      "multiplication of list is:  24\n",
      "max of list is : 4\n",
      "min of list is : 1\n",
      "sum of list is : 10\n",
      "avg of list is : 2.5\n",
      "without using minimum:  1\n",
      "without using maximum:  4\n"
     ]
    }
   ],
   "source": [
    "l=int(input(\"Enter length of of list\"))\n",
    "li=[]\n",
    "mul=1\n",
    "i=1\n",
    "print(\"enter \",l,\"values\")\n",
    "for i in range(l):\n",
    "    a=int(input())\n",
    "    li.append(a)\n",
    "    \n",
    "\n",
    "\n",
    "print(\"your list as\",li)\n",
    "print(\"multiplication of list is \")\n",
    "for i in li:\n",
    "    mul=mul*i\n",
    "print(\"multiplication of list is: \",mul)\n",
    "print(\"max of list is :\",max(li))\n",
    "print(\"min of list is :\",min(li))\n",
    "print(\"sum of list is :\",sum(li))\n",
    "print(\"avg of list is :\",sum(li)/l)\n",
    "\n",
    "\n",
    "#without using functions max and min:\n",
    "maxi=li[0]\n",
    "for i in li:\n",
    "    if i>maxi:\n",
    "        maxi=i\n",
    "print(\"without using maximum: \",maxi)\n",
    "#for minimum\n",
    "mini=li[0]\n",
    "for i in li:\n",
    "    if i<mini:\n",
    "        mini=i\n",
    "print(\"without using minimum: \",mini)\n",
    "\n",
    "\n",
    "        \n",
    "\n",
    "    "
   ]
  },
  {
   "cell_type": "markdown",
   "metadata": {},
   "source": [
    "# Write a Python program to count the number of strings where the string length is 2 or more and the first and last character are same from a given list of strings."
   ]
  },
  {
   "cell_type": "code",
   "execution_count": null,
   "metadata": {},
   "outputs": [],
   "source": []
  },
  {
   "cell_type": "code",
   "execution_count": null,
   "metadata": {},
   "outputs": [],
   "source": []
  },
  {
   "cell_type": "code",
   "execution_count": 13,
   "metadata": {},
   "outputs": [
    {
     "name": "stdout",
     "output_type": "stream",
     "text": [
      "enter length of list5\n",
      "enter  5  values\n",
      "aa\n",
      "aba\n",
      "aca\n",
      "ava\n",
      "your entered list as  ['aa', 'aba', 'aca', 'ava']\n",
      "4\n"
     ]
    }
   ],
   "source": [
    "n=int(input(\"enter length of list\"))\n",
    "print(\"enter \",n,\" values\")\n",
    "li=[]\n",
    "c=0\n",
    "for i in range(1,n):\n",
    "    a=input()\n",
    "    li.append(a)\n",
    "print(\"your entered list as \",li)\n",
    "for i in li:\n",
    "    if(len(i)>1 and i[0]==i[-1]):\n",
    "        c+=1\n",
    "print(c)\n",
    "\n",
    "\n",
    "\n",
    "    "
   ]
  },
  {
   "cell_type": "code",
   "execution_count": 46,
   "metadata": {},
   "outputs": [
    {
     "name": "stdout",
     "output_type": "stream",
     "text": [
      "[(1, 2), (2, 3), (4, 4), (2, 5), (2, 7)]\n"
     ]
    }
   ],
   "source": [
    "def lst(n):\n",
    "    return n[-1]\n",
    "def sort_list_last(tuples):\n",
    "  return sorted(tuples, key=lst)\n",
    "\n",
    "print(sort_list_last([(2, 5), (1, 2), (4, 4), (2, 3), (2, 7)]))\n"
   ]
  },
  {
   "cell_type": "code",
   "execution_count": 63,
   "metadata": {},
   "outputs": [
    {
     "data": {
      "text/plain": [
       "[1, 2, 2, 4, 5, 9, 9]"
      ]
     },
     "execution_count": 63,
     "metadata": {},
     "output_type": "execute_result"
    }
   ],
   "source": [
    "li=[1,5,4,2,9,2,9]\n",
    "sorted(li)"
   ]
  },
  {
   "cell_type": "code",
   "execution_count": 2,
   "metadata": {},
   "outputs": [
    {
     "name": "stdout",
     "output_type": "stream",
     "text": [
      "3\n"
     ]
    }
   ],
   "source": [
    "#count of list\n",
    "li=[1,22,33,22,6,22,7,8,9]\n",
    "k=22\n",
    "for i in li:\n",
    "    \n",
    "    \n"
   ]
  },
  {
   "cell_type": "code",
   "execution_count": 9,
   "metadata": {},
   "outputs": [
    {
     "name": "stdout",
     "output_type": "stream",
     "text": [
      "abc@ 123 #abc\n",
      "digits are:  3\n",
      "dcounts are:  6\n",
      "other are:  4\n"
     ]
    }
   ],
   "source": [
    "s=input()\n",
    "dcount=0\n",
    "ddigit=0\n",
    "dothers=0\n",
    "for i in s:\n",
    "    if(i.isdigit()):\n",
    "        ddigit =ddigit+1\n",
    "    elif(i.isalpha()):\n",
    "        dcount=dcount+1\n",
    "    else:\n",
    "        dothers=dothers+1\n",
    "print(\"digits are: \",ddigit)\n",
    "print(\"dcounts are: \",dcount)\n",
    "print(\"other are: \",dothers)\n",
    "\n",
    "\n",
    "    \n",
    "        "
   ]
  },
  {
   "cell_type": "code",
   "execution_count": 8,
   "metadata": {},
   "outputs": [
    {
     "data": {
      "text/plain": [
       "['__add__',\n",
       " '__class__',\n",
       " '__contains__',\n",
       " '__delattr__',\n",
       " '__dir__',\n",
       " '__doc__',\n",
       " '__eq__',\n",
       " '__format__',\n",
       " '__ge__',\n",
       " '__getattribute__',\n",
       " '__getitem__',\n",
       " '__getnewargs__',\n",
       " '__gt__',\n",
       " '__hash__',\n",
       " '__init__',\n",
       " '__init_subclass__',\n",
       " '__iter__',\n",
       " '__le__',\n",
       " '__len__',\n",
       " '__lt__',\n",
       " '__mod__',\n",
       " '__mul__',\n",
       " '__ne__',\n",
       " '__new__',\n",
       " '__reduce__',\n",
       " '__reduce_ex__',\n",
       " '__repr__',\n",
       " '__rmod__',\n",
       " '__rmul__',\n",
       " '__setattr__',\n",
       " '__sizeof__',\n",
       " '__str__',\n",
       " '__subclasshook__',\n",
       " 'capitalize',\n",
       " 'casefold',\n",
       " 'center',\n",
       " 'count',\n",
       " 'encode',\n",
       " 'endswith',\n",
       " 'expandtabs',\n",
       " 'find',\n",
       " 'format',\n",
       " 'format_map',\n",
       " 'index',\n",
       " 'isalnum',\n",
       " 'isalpha',\n",
       " 'isascii',\n",
       " 'isdecimal',\n",
       " 'isdigit',\n",
       " 'isidentifier',\n",
       " 'islower',\n",
       " 'isnumeric',\n",
       " 'isprintable',\n",
       " 'isspace',\n",
       " 'istitle',\n",
       " 'isupper',\n",
       " 'join',\n",
       " 'ljust',\n",
       " 'lower',\n",
       " 'lstrip',\n",
       " 'maketrans',\n",
       " 'partition',\n",
       " 'replace',\n",
       " 'rfind',\n",
       " 'rindex',\n",
       " 'rjust',\n",
       " 'rpartition',\n",
       " 'rsplit',\n",
       " 'rstrip',\n",
       " 'split',\n",
       " 'splitlines',\n",
       " 'startswith',\n",
       " 'strip',\n",
       " 'swapcase',\n",
       " 'title',\n",
       " 'translate',\n",
       " 'upper',\n",
       " 'zfill']"
      ]
     },
     "execution_count": 8,
     "metadata": {},
     "output_type": "execute_result"
    }
   ],
   "source": [
    "dir(str)"
   ]
  },
  {
   "cell_type": "code",
   "execution_count": 12,
   "metadata": {},
   "outputs": [
    {
     "name": "stdout",
     "output_type": "stream",
     "text": [
      "please enter your name with special characters: lokesh varma@%\n",
      "lokesh varma\n"
     ]
    }
   ],
   "source": [
    "#special='''!@#$%^&*()_-,.;\"\",{}|\\:'''\n",
    "s=input(\"please enter your name with special characters: \")\n",
    "em=\"\"\n",
    "for i in s:\n",
    "    if i not in special:\n",
    "        em=em+i\n",
    "print(em)\n",
    "        \n",
    "    \n",
    "    "
   ]
  },
  {
   "cell_type": "code",
   "execution_count": 27,
   "metadata": {},
   "outputs": [
    {
     "data": {
      "text/plain": [
       "' '"
      ]
     },
     "execution_count": 27,
     "metadata": {},
     "output_type": "execute_result"
    }
   ],
   "source": [
    "a=chr(65)\n",
    "a\n",
    "ord(\"a\") # it prints the ascii value of a\n",
    "chr(32) # it prints the special character"
   ]
  },
  {
   "cell_type": "code",
   "execution_count": 17,
   "metadata": {},
   "outputs": [
    {
     "name": "stdout",
     "output_type": "stream",
     "text": [
      "qwer\n",
      "A\n",
      "B\n",
      "C\n",
      "D\n",
      "E\n",
      "F\n",
      "G\n",
      "H\n",
      "I\n",
      "J\n",
      "K\n",
      "L\n",
      "M\n",
      "N\n",
      "O\n",
      "P\n",
      "Q\n",
      "R\n",
      "S\n",
      "T\n",
      "U\n",
      "V\n",
      "W\n",
      "X\n",
      "Y\n"
     ]
    }
   ],
   "source": [
    "s=input()\n",
    "for i in range(65,90):\n",
    "    print(chr(i))\n",
    "    "
   ]
  },
  {
   "cell_type": "code",
   "execution_count": 20,
   "metadata": {
    "collapsed": true
   },
   "outputs": [
    {
     "name": "stdout",
     "output_type": "stream",
     "text": [
      "please enter your name with special characters: Abc 123 @\n",
      "3\n",
      "3\n",
      "3\n"
     ]
    }
   ],
   "source": [
    "#using ASCII cound digits,letters and special characters\n",
    "s=input(\"please enter your name with special characters: \")\n",
    "c=0\n",
    "sp=0\n",
    "d=0\n",
    "for i in s:\n",
    "    if((ord(i)>=65 and ord(i)<=90)or(ord(i)>=97 and ord(i)<=122)):\n",
    "        c+=1\n",
    "    elif(ord(i)>=48 and ord(i)<=57):\n",
    "        d=d+1\n",
    "    else:\n",
    "        sp=sp+1\n",
    "    \n",
    "        \n",
    "\n",
    "print(c)\n",
    "print(d)\n",
    "print(sp)\n",
    "        "
   ]
  },
  {
   "cell_type": "code",
   "execution_count": 17,
   "metadata": {},
   "outputs": [
    {
     "name": "stdout",
     "output_type": "stream",
     "text": [
      "please enter your name with special characters: l koe sh123\n",
      "l koe sh123\n"
     ]
    }
   ],
   "source": [
    "#special='''!@#$%^&*()_-,.;\"\",{}|\\:'''\n",
    "s=input(\"please enter your name with special characters: \")\n",
    "em=\"\"\n",
    "li=[]\n",
    "for i in range(65,91): # A-Z => 65-90(ASCII Character)\n",
    "    li.append(chr(i))\n",
    "for i in range(97,123): #a-z => 97-122\n",
    "    li.append(chr(i))\n",
    "for i in range(48,58): #0-9 =>48-57\n",
    "    li.append(chr(i))\n",
    "for i in range(32,33): #space =>32\n",
    "    li.append(chr(i))\n",
    "\n",
    "for k in s:\n",
    "    if k in li:\n",
    "        em=em+k\n",
    "        \n",
    "    \n",
    "    \n",
    "#print(li,end=\" \")\n",
    "print(em)\n",
    "\n"
   ]
  },
  {
   "cell_type": "code",
   "execution_count": 40,
   "metadata": {},
   "outputs": [
    {
     "name": "stdout",
     "output_type": "stream",
     "text": [
      "\n",
      "special characters are:\n",
      "['\\x00', '\\x01', '\\x02', '\\x03', '\\x04', '\\x05', '\\x06', '\\x07', '\\x08', '\\t', '\\n', '\\x0b', '\\x0c', '\\r', '\\x0e', '\\x0f', '\\x10', '\\x11', '\\x12', '\\x13', '\\x14', '\\x15', '\\x16', '\\x17', '\\x18', '\\x19', '\\x1a', '\\x1b', '\\x1c', '\\x1d', '\\x1e', '\\x1f', ' ', '!', '\"', '#', '$', '%', '&', \"'\", '(', ')', '*', '+', ',', '-', '.', '/', ':', ';', '<', '=', '>', '?', '@', '[', '\\\\', ']', '^', '_', '`', '{', '|', '}', '~', '\\x7f']\n",
      "capital letters are:\n",
      "\n",
      "['A', 'B', 'C', 'D', 'E', 'F', 'G', 'H', 'I', 'J', 'K', 'L', 'M', 'N', 'O', 'P', 'Q', 'R', 'S', 'T', 'U', 'V', 'W', 'X', 'Y', 'Z'] \n",
      "small leters are:\n",
      "\n",
      "['a', 'b', 'c', 'd', 'e', 'f', 'g', 'h', 'i', 'j', 'k', 'l', 'm', 'n', 'o', 'p', 'q', 'r', 's', 't', 'u', 'v', 'w', 'x', 'y', 'z'] \n",
      "digits are:\n",
      "\n",
      "['0', '1', '2', '3', '4', '5', '6', '7', '8', '9'] "
     ]
    }
   ],
   "source": [
    "sl=[]\n",
    "cl=[]\n",
    "d=[]\n",
    "sp=[]\n",
    "for i in range(0,128):\n",
    "    #print(chr(i),end=\" \")\n",
    "    if i in range(65,91):\n",
    "        #print(chr(i),end=\" \")\n",
    "        cl.append(chr(i))\n",
    "    elif i in range(97,123):\n",
    "        #print(chr(i), end=\" \")\n",
    "        sl.append(chr(i))\n",
    "    elif i in range(48,58):\n",
    "        #print(chr(i),end=\" \")\n",
    "        d.append(chr(i))\n",
    "    else:\n",
    "        #print(chr(i))\n",
    "        sp.append(chr(i))\n",
    "print(\"\\nspecial characters are:\")\n",
    "print(sp,end=\"\")\n",
    "print(\"\\ncapital letters are:\\n\")\n",
    "print(cl,end=\" \")\n",
    "print(\"\\nsmall leters are:\\n\")\n",
    "print(sl,end=\" \")\n",
    "print(\"\\ndigits are:\\n\")\n",
    "print(d,end=\" \")\n"
   ]
  },
  {
   "cell_type": "code",
   "execution_count": null,
   "metadata": {},
   "outputs": [],
   "source": []
  }
 ],
 "metadata": {
  "kernelspec": {
   "display_name": "Python 3",
   "language": "python",
   "name": "python3"
  },
  "language_info": {
   "codemirror_mode": {
    "name": "ipython",
    "version": 3
   },
   "file_extension": ".py",
   "mimetype": "text/x-python",
   "name": "python",
   "nbconvert_exporter": "python",
   "pygments_lexer": "ipython3",
   "version": "3.7.3"
  }
 },
 "nbformat": 4,
 "nbformat_minor": 2
}
