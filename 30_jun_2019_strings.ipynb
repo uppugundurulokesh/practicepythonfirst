{
 "cells": [
  {
   "cell_type": "markdown",
   "metadata": {},
   "source": [
    "# Strings"
   ]
  },
  {
   "cell_type": "code",
   "execution_count": 3,
   "metadata": {},
   "outputs": [
    {
     "name": "stdout",
     "output_type": "stream",
     "text": [
      "hello\n"
     ]
    }
   ],
   "source": [
    "a=\"hello\"\n",
    "print(a)"
   ]
  },
  {
   "cell_type": "code",
   "execution_count": 4,
   "metadata": {},
   "outputs": [
    {
     "data": {
      "text/plain": [
       "'hello 123'"
      ]
     },
     "execution_count": 4,
     "metadata": {},
     "output_type": "execute_result"
    }
   ],
   "source": [
    "a=\"hello 123\"\n",
    "a"
   ]
  },
  {
   "cell_type": "code",
   "execution_count": 62,
   "metadata": {},
   "outputs": [
    {
     "name": "stdout",
     "output_type": "stream",
     "text": [
      "hello one 10\n",
      "llo o\n",
      "[30, 40, 50, 60]\n"
     ]
    },
    {
     "data": {
      "text/plain": [
       "[]"
      ]
     },
     "execution_count": 62,
     "metadata": {},
     "output_type": "execute_result"
    }
   ],
   "source": [
    "a=\"hello one\"\n",
    "a[1]\n",
    "a[2:5]\n",
    "a[2:]\n",
    "a.strip()\n",
    "len(a)\n",
    "a.lower()\n",
    "a.upper()\n",
    "a.replace(\" \",\"_\")\n",
    "a.split(\" \")\n",
    "var=10\n",
    "print(a,var)\n",
    "\n",
    "print(a[2:7])\n",
    "a[2:7:2]\n",
    "\n",
    "list=[10,20,30,40,50,60,50,80,90]\n",
    "print(list[2:6])\n",
    "list[7:-2]\n",
    "\n",
    "\n",
    "\n"
   ]
  },
  {
   "cell_type": "code",
   "execution_count": 69,
   "metadata": {},
   "outputs": [
    {
     "name": "stdout",
     "output_type": "stream",
     "text": [
      "gopi is good\n"
     ]
    },
    {
     "data": {
      "text/plain": [
       "'doog_si_ipog'"
      ]
     },
     "execution_count": 69,
     "metadata": {},
     "output_type": "execute_result"
    }
   ],
   "source": [
    "s=input()\n",
    "a=s[::-1]\n",
    "a.replace(\" \",\"_\")"
   ]
  },
  {
   "cell_type": "code",
   "execution_count": 84,
   "metadata": {},
   "outputs": [
    {
     "name": "stdout",
     "output_type": "stream",
     "text": [
      "welcome to gopi  tii\n"
     ]
    }
   ],
   "source": [
    "a=\"welcome to gopi iit\"\n",
    "z=a[:len(a)-3]\n",
    "b=a[-3:]\n",
    "c=b[::-1]\n",
    "print(z,c)"
   ]
  },
  {
   "cell_type": "code",
   "execution_count": null,
   "metadata": {},
   "outputs": [],
   "source": []
  }
 ],
 "metadata": {
  "kernelspec": {
   "display_name": "Python 3",
   "language": "python",
   "name": "python3"
  },
  "language_info": {
   "codemirror_mode": {
    "name": "ipython",
    "version": 3
   },
   "file_extension": ".py",
   "mimetype": "text/x-python",
   "name": "python",
   "nbconvert_exporter": "python",
   "pygments_lexer": "ipython3",
   "version": "3.7.3"
  }
 },
 "nbformat": 4,
 "nbformat_minor": 2
}
